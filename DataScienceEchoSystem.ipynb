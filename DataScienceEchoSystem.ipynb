{
 "cells": [
  {
   "cell_type": "markdown",
   "id": "b4fcfb26-e72a-42d1-8245-03b05132b31b",
   "metadata": {},
   "source": [
    "# **Data Science Tools and Echo System**"
   ]
  },
  {
   "cell_type": "markdown",
   "id": "a13d3af2-e474-487a-b515-be9cbf5e2e17",
   "metadata": {},
   "source": [
    "## **Introduction**\n",
    "In this notebook, Data Science tools and Echo System are summarized.\n",
    " "
   ]
  },
  {
   "cell_type": "markdown",
   "id": "444dac7e-9b17-4a75-b9f2-0309c2ae1df5",
   "metadata": {},
   "source": [
    "## **List of Data Science Languages**\n",
    "\n",
    "Some of the popular languages that Data Scientists use are:\n",
    "1. Python\n",
    "2. R\n",
    "3. SQL\n",
    "4. C++\n",
    "5. Java\n",
    "6. Julia\n",
    "7. MATLAB\n",
    "8. Scala\n",
    "    \n",
    "and others"
   ]
  },
  {
   "cell_type": "markdown",
   "id": "c47ed344-1aac-45f6-baf6-80e9a5f756f1",
   "metadata": {},
   "source": [
    "### **Data Science Libraries\"\n",
    "\n",
    "Some of data language libraries are listed as under:\n",
    "\n",
    "- **Python Libraries**\n",
    "    - Numpy \n",
    "    - Pandas\n",
    "    - Scikit-Learn\n",
    "    - Matplotlib\n",
    "    - Seaborn\n",
    "    - TensorFlow\n",
    "    - Keras\n",
    "    - PyTorch\n",
    "    - SciPy\n",
    "    - Statesmodels\n",
    "\n",
    "- **R Libraries**\n",
    "    - ggplo2\n",
    "    - dplyr\n",
    "    - tidyr\n",
    "    - caret\n",
    "    - randomForest\n",
    "    - xgboost\n",
    "    - shiny\n",
    "    - lubridate\n",
    "    - forecast\n",
    "\n",
    " - **Julia Libraries**\n",
    "    - DataFrames.jl\n",
    "    - Plots.jl\n",
    "    - Flux.jl\n",
    "    - StatsBase.jl\n",
    "    - Query.jl\n",
    "\n",
    "- **MATLAB Libraries**\n",
    "    - Statistics and Machine Learning Toolbox\n",
    "    - Data Analysis Toolbox\n",
    "    - Deep Learning Toolbox\n",
    "    - Optimization Toolbox\n",
    "\n",
    "- **Big Data Technologies**\n",
    "    - Apachi Spark\n",
    "    - Hadoob  \n"
   ]
  },
  {
   "cell_type": "markdown",
   "id": "2761ab3e-5c4c-448d-baf3-fee4193adb4d",
   "metadata": {},
   "source": [
    "### **Table of Data Science Tools**\n",
    "\n",
    "Some of the Data Science tools are listed as below:\n",
    "|Tools|\n",
    "|-----|\n",
    "|MySQL|\n",
    "|Jupyter NootBook|\n",
    "|RStudio|\n",
    "|Spider|"
   ]
  },
  {
   "cell_type": "markdown",
   "id": "a8a9130d-9d2d-4da9-95e6-ab4bbecc6be2",
   "metadata": {},
   "source": [
    "### **Arithmetic Expressions**\n",
    "\n",
    "**Examples**\n",
    "\n",
    "- **Addition:**     2+4\n",
    "\n",
    "- **Subtration:**   6 - 2\n",
    "\n",
    "- **Multiplication:**   4*5\n",
    "\n",
    "- **Division:**   3/4\n"
   ]
  },
  {
   "cell_type": "code",
   "execution_count": 16,
   "id": "55683038-06b8-47d3-9d88-576d1323729b",
   "metadata": {},
   "outputs": [
    {
     "data": {
      "text/plain": [
       "17"
      ]
     },
     "execution_count": 16,
     "metadata": {},
     "output_type": "execute_result"
    }
   ],
   "source": [
    "\n",
    "(3*4)+5\n",
    "\n",
    "# First multiply 3 with 4 and then add 5\n",
    " \n"
   ]
  },
  {
   "cell_type": "code",
   "execution_count": 28,
   "id": "e8c49d6b-4ab8-41b1-8dda-c370144190a2",
   "metadata": {},
   "outputs": [
    {
     "name": "stdout",
     "output_type": "stream",
     "text": [
      "3.3333333333333335\n"
     ]
    }
   ],
   "source": [
    "hours  = 200/60\n",
    "print(hours)\n",
    "# This code converts 200 minutes into hours"
   ]
  },
  {
   "cell_type": "markdown",
   "id": "30880aea-82ec-4b32-ba9e-625da87b25b0",
   "metadata": {
    "jp-MarkdownHeadingCollapsed": true
   },
   "source": [
    "## **Objectives**\n",
    "\n",
    "The main objectives of this lab are:\n",
    "\n",
    "- Be familiar with Jupyter notebooks\n",
    "- Create Markdown and Code Cells\n",
    "- Generation of Lists, tables, titles etc in Jupyter notebook\n",
    "- Perform Arithmetic operations"
   ]
  },
  {
   "cell_type": "markdown",
   "id": "3c220896-56ab-40e4-9dad-2d7fc5cd1996",
   "metadata": {},
   "source": [
    "## **Author**\n",
    "**Name:**    Mukhtiar Ali Unar"
   ]
  }
 ],
 "metadata": {
  "kernelspec": {
   "display_name": "Python 3 (ipykernel)",
   "language": "python",
   "name": "python3"
  },
  "language_info": {
   "codemirror_mode": {
    "name": "ipython",
    "version": 3
   },
   "file_extension": ".py",
   "mimetype": "text/x-python",
   "name": "python",
   "nbconvert_exporter": "python",
   "pygments_lexer": "ipython3",
   "version": "3.12.4"
  }
 },
 "nbformat": 4,
 "nbformat_minor": 5
}
